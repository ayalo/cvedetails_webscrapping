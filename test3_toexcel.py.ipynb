{
 "cells": [
  {
   "cell_type": "code",
   "execution_count": 1,
   "id": "745336f8",
   "metadata": {},
   "outputs": [],
   "source": [
    "import sys\n",
    "import requests\n",
    "from bs4 import BeautifulSoup\n",
    "import pandas as pd\n"
   ]
  },
  {
   "cell_type": "code",
   "execution_count": null,
   "id": "6a9c8e0e",
   "metadata": {},
   "outputs": [],
   "source": []
  },
  {
   "cell_type": "code",
   "execution_count": 2,
   "id": "06e38c07",
   "metadata": {},
   "outputs": [],
   "source": [
    "\n",
    "def get_cve_details(cve_id):\n",
    "    print(\"DEBUGGING -- cve_id:\" + cve_id)\n",
    "    # Set the headers\n",
    "    #headers = {\n",
    "    #    'User-Agent': 'Mozilla/5.0 (Windows NT 10.0; Win64; x64) AppleWebKit/537.36 (KHTML, like Gecko) Chrome/117.0.0.0 Safari/537.36'\n",
    "    #}\n",
    "    headers = {'User-Agent': 'Mozilla/5.0 (Windows NT 10.0; Win64; x64) AppleWebKit/537.36 '\n",
    "                             '(KHTML, like Gecko) Chrome/117.0.0.0 Safari/537.36'}\n",
    "    # Construct the URL\n",
    "    url = f'https://www.cvedetails.com/cve/{cve_id}'\n",
    "\n",
    "    # Send the GET request to the URL\n",
    "    response = requests.get(url, headers=headers, verify=False)\n",
    "\n",
    "    # Check the response status code\n",
    "    if response.status_code != 200:\n",
    "        raise Exception(f'Error: Invalid CVE ID \"{cve_id}\".')\n",
    "\n",
    "    # Parse the HTML response\n",
    "    soup = BeautifulSoup(response.text, 'html.parser')\n",
    "    #print(\"DEBUGGING -- response.text - \"+response.text)\n",
    "    # Extract the CVE ID\n",
    "    #cve_id = cve_id\n",
    "    #print(\"DEBUGGING -- cve_id:\"+cve_id)\n",
    "    cve_content_div = soup.find('div', attrs={'id': 'contentdiv'})\n",
    "    #the cve has no entry in cvedetails yet\n",
    "    #alert= cve_content_div.find('div', class_='alert alert-secondary my-4').text.strip()\n",
    "    if  cve_content_div.find('div', class_='alert alert-secondary my-4'):\n",
    "        message = f'>> Failed to parse HTML elements cve_content_div << \\n\\n'\n",
    "        print(f'ERROR {cve_id}{message} ')\n",
    "        return {\n",
    "            'cve_id': cve_id\n",
    "        }\n",
    "        ## Send the result to webhook. ##\n",
    "        #sys.exit(0)\n",
    "        return\n",
    "    #the cve has no entry in cvedetails yet\n",
    " \n",
    "   \n",
    "\n",
    "    #cve_id = cve_content_div.find('h1').find('a').text.strip()\n",
    "    description = cve_content_div.find('div', class_='cvedetailssummary-text').text.strip()\n",
    "    #print(\"DEBUGGING -- description:\" + description)\n",
    "    published_updated_elements = cve_content_div.find_all('div', class_='d-inline-block')\n",
    "    published_date = published_updated_elements[0].text.strip().replace(\"Published\", \"\").strip()\n",
    "    updated_date = published_updated_elements[1].text.strip().replace(\"Updated\", \"\").strip()\n",
    "    #print(\"DEBUGGING -- published_date:\" + published_date)\n",
    "    #print(\"DEBUGGING -- updated_date:\" + updated_date)\n",
    "\n",
    "    # Extract the Vulnerability category\n",
    "    vuln_cat_elements = cve_content_div.find_all('span', class_='ssc-vuln-cat')\n",
    "    total_vuln_cat=[]\n",
    "    for x in range(len(vuln_cat_elements )):\n",
    "        total_vuln_cat+= vuln_cat_elements[x]\n",
    "    #print(\"DEBUGGING -- vuln_cat:\", *total_vuln_cat, sep=\",\")\n",
    "\n",
    "    # Extract the base score\n",
    "    cve_content_div2 = soup.find('table',  class_='table table-borderless')\n",
    "    if  not cve_content_div2:\n",
    "        message = f'>> Failed to parse HTML elements cve_content_div2 << \\n\\n'\n",
    "        print(f'ERROR {cve_id}{message} ')\n",
    "        return {\n",
    "            'cve_id': cve_id\n",
    "        }\n",
    "    base_score_elements = cve_content_div2.find_all('td', class_='ps-2')\n",
    "    base_score = base_score_elements[0].find('div', class_='cvssbox').text.strip()\n",
    "    base_severity = base_score_elements[1].text.strip()\n",
    "    vector = base_score_elements[2].text.strip()\n",
    "    exploitability = base_score_elements[3].text.strip()\n",
    "    impact = base_score_elements[4].text.strip()\n",
    "\n",
    "    #\n",
    "    #cwe_heading = cve_content_div.find('h2', string='CWE ids for ' + cve_id)\n",
    "    #if cwe_heading:\n",
    "    #    cwe_item = cwe_heading.find_next('a')\n",
    "    #    if cwe_item:\n",
    "    #        cwe_id = cwe_item.text.strip()\n",
    "    #else:\n",
    "    #    cwe_id = f'Not found CWE ids for {cve_id}'\n",
    "\n",
    "    # Extract the published date\n",
    "    #published_date = soup.find('div', class_='d-inline-block').text.strip().replace(\"Published\", \"\").strip()\n",
    "    #print(\"DEBUGGING -- published_date:\" + published_date)\n",
    "    # Extract the CWE ID\n",
    "    cwe_id_element = soup.find('h2', string='CWE ids for ' + cve_id)\n",
    "    if cwe_id_element:\n",
    "        cwe_item = cwe_id_element.find_next('a')\n",
    "        if cwe_item:\n",
    "            cwe_id = cwe_item.text.strip()\n",
    "    else:\n",
    "        cwe_id = 'Not found CWE ids for ' + cve_id\n",
    "    #print(\"DEBUGGING -- cwe_id :\" + cwe_id )\n",
    "\n",
    "    references_heading = cve_content_div.find('h2', string='References for ' + cve_id)\n",
    "    if references_heading:\n",
    "        references_list = references_heading.find_next('ul', class_='list-group')\n",
    "        if references_list:\n",
    "            reference_links = references_list.find_all('a', class_='ssc-ext-link')\n",
    "            references = [link['href'] for link in reference_links]\n",
    "    else:\n",
    "        references = f'Not found references for {cve_id}'\n",
    "\n",
    "    return {\n",
    "        'cve_id': cve_id,\n",
    "        'published_date': published_date,\n",
    "        'updated_date': updated_date,\n",
    "        'cwe_id': cwe_id,\n",
    "        'total_vuln_cat': total_vuln_cat,\n",
    "        'base_score':base_score,\n",
    "        'base_severity':base_severity,\n",
    "        'vector':vector,\n",
    "        'exploitability':exploitability,\n",
    "        'impact':impact\n",
    "    }"
   ]
  },
  {
   "cell_type": "code",
   "execution_count": 26,
   "id": "6bc1dd8c",
   "metadata": {},
   "outputs": [
    {
     "name": "stdout",
     "output_type": "stream",
     "text": [
      "DEBUGGING -- cve_id:CVE-2024-0508\n"
     ]
    },
    {
     "name": "stderr",
     "output_type": "stream",
     "text": [
      "C:\\Program Files\\Anaconda3\\envs\\pyth3_p1\\lib\\site-packages\\urllib3\\connectionpool.py:1013: InsecureRequestWarning: Unverified HTTPS request is being made to host 'www.cvedetails.com'. Adding certificate verification is strongly advised. See: https://urllib3.readthedocs.io/en/1.26.x/advanced-usage.html#ssl-warnings\n",
      "  warnings.warn(\n"
     ]
    },
    {
     "name": "stdout",
     "output_type": "stream",
     "text": [
      "ERROR CVE-2024-0508>> Failed to parse HTML elements cve_content_div << \n",
      "\n",
      " \n"
     ]
    }
   ],
   "source": [
    "cve_details=get_cve_details('CVE-2024-0508')"
   ]
  },
  {
   "cell_type": "code",
   "execution_count": 27,
   "id": "7d68f147",
   "metadata": {},
   "outputs": [
    {
     "data": {
      "text/plain": [
       "{'cve_id': 'CVE-2024-0508'}"
      ]
     },
     "execution_count": 27,
     "metadata": {},
     "output_type": "execute_result"
    }
   ],
   "source": [
    "cve_details"
   ]
  },
  {
   "cell_type": "code",
   "execution_count": 18,
   "id": "b136e51a",
   "metadata": {},
   "outputs": [
    {
     "data": {
      "text/html": [
       "<div>\n",
       "<style scoped>\n",
       "    .dataframe tbody tr th:only-of-type {\n",
       "        vertical-align: middle;\n",
       "    }\n",
       "\n",
       "    .dataframe tbody tr th {\n",
       "        vertical-align: top;\n",
       "    }\n",
       "\n",
       "    .dataframe thead th {\n",
       "        text-align: right;\n",
       "    }\n",
       "</style>\n",
       "<table border=\"1\" class=\"dataframe\">\n",
       "  <thead>\n",
       "    <tr style=\"text-align: right;\">\n",
       "      <th></th>\n",
       "      <th>cve_id</th>\n",
       "    </tr>\n",
       "  </thead>\n",
       "  <tbody>\n",
       "    <tr>\n",
       "      <th>0</th>\n",
       "      <td>CVE-2024-20709</td>\n",
       "    </tr>\n",
       "    <tr>\n",
       "      <th>1</th>\n",
       "      <td>CVE-2024-20721</td>\n",
       "    </tr>\n",
       "    <tr>\n",
       "      <th>2</th>\n",
       "      <td>CVE-2023-27859</td>\n",
       "    </tr>\n",
       "    <tr>\n",
       "      <th>3</th>\n",
       "      <td>CVE-2023-36025</td>\n",
       "    </tr>\n",
       "    <tr>\n",
       "      <th>4</th>\n",
       "      <td>CVE-2023-27524</td>\n",
       "    </tr>\n",
       "    <tr>\n",
       "      <th>5</th>\n",
       "      <td>CVE-2024-0508</td>\n",
       "    </tr>\n",
       "  </tbody>\n",
       "</table>\n",
       "</div>"
      ],
      "text/plain": [
       "           cve_id\n",
       "0  CVE-2024-20709\n",
       "1  CVE-2024-20721\n",
       "2  CVE-2023-27859\n",
       "3  CVE-2023-36025\n",
       "4  CVE-2023-27524\n",
       "5   CVE-2024-0508"
      ]
     },
     "execution_count": 18,
     "metadata": {},
     "output_type": "execute_result"
    }
   ],
   "source": [
    "df = pd.read_excel(r'cves_list.xlsx', sheet_name='CVEs')\n",
    "#print(df)\n",
    "df.head(7)"
   ]
  },
  {
   "cell_type": "code",
   "execution_count": 8,
   "id": "10751c88",
   "metadata": {},
   "outputs": [],
   "source": [
    "#en una lista NO\n",
    "#result = [get_cve_details(x) for x in df['cve_id']]"
   ]
  },
  {
   "cell_type": "code",
   "execution_count": 33,
   "id": "284893f6",
   "metadata": {},
   "outputs": [
    {
     "name": "stdout",
     "output_type": "stream",
     "text": [
      "DEBUGGING -- cve_id:CVE-2024-20709\n"
     ]
    },
    {
     "name": "stderr",
     "output_type": "stream",
     "text": [
      "C:\\Program Files\\Anaconda3\\envs\\pyth3_p1\\lib\\site-packages\\urllib3\\connectionpool.py:1013: InsecureRequestWarning: Unverified HTTPS request is being made to host 'www.cvedetails.com'. Adding certificate verification is strongly advised. See: https://urllib3.readthedocs.io/en/1.26.x/advanced-usage.html#ssl-warnings\n",
      "  warnings.warn(\n"
     ]
    },
    {
     "name": "stdout",
     "output_type": "stream",
     "text": [
      "DEBUGGING -- cve_id:CVE-2024-20721\n"
     ]
    },
    {
     "name": "stderr",
     "output_type": "stream",
     "text": [
      "C:\\Program Files\\Anaconda3\\envs\\pyth3_p1\\lib\\site-packages\\urllib3\\connectionpool.py:1013: InsecureRequestWarning: Unverified HTTPS request is being made to host 'www.cvedetails.com'. Adding certificate verification is strongly advised. See: https://urllib3.readthedocs.io/en/1.26.x/advanced-usage.html#ssl-warnings\n",
      "  warnings.warn(\n"
     ]
    },
    {
     "name": "stdout",
     "output_type": "stream",
     "text": [
      "DEBUGGING -- cve_id:CVE-2023-27859\n"
     ]
    },
    {
     "name": "stderr",
     "output_type": "stream",
     "text": [
      "C:\\Program Files\\Anaconda3\\envs\\pyth3_p1\\lib\\site-packages\\urllib3\\connectionpool.py:1013: InsecureRequestWarning: Unverified HTTPS request is being made to host 'www.cvedetails.com'. Adding certificate verification is strongly advised. See: https://urllib3.readthedocs.io/en/1.26.x/advanced-usage.html#ssl-warnings\n",
      "  warnings.warn(\n"
     ]
    },
    {
     "name": "stdout",
     "output_type": "stream",
     "text": [
      "DEBUGGING -- cve_id:CVE-2023-36025\n"
     ]
    },
    {
     "name": "stderr",
     "output_type": "stream",
     "text": [
      "C:\\Program Files\\Anaconda3\\envs\\pyth3_p1\\lib\\site-packages\\urllib3\\connectionpool.py:1013: InsecureRequestWarning: Unverified HTTPS request is being made to host 'www.cvedetails.com'. Adding certificate verification is strongly advised. See: https://urllib3.readthedocs.io/en/1.26.x/advanced-usage.html#ssl-warnings\n",
      "  warnings.warn(\n"
     ]
    },
    {
     "name": "stdout",
     "output_type": "stream",
     "text": [
      "DEBUGGING -- cve_id:CVE-2023-27524\n"
     ]
    },
    {
     "name": "stderr",
     "output_type": "stream",
     "text": [
      "C:\\Program Files\\Anaconda3\\envs\\pyth3_p1\\lib\\site-packages\\urllib3\\connectionpool.py:1013: InsecureRequestWarning: Unverified HTTPS request is being made to host 'www.cvedetails.com'. Adding certificate verification is strongly advised. See: https://urllib3.readthedocs.io/en/1.26.x/advanced-usage.html#ssl-warnings\n",
      "  warnings.warn(\n"
     ]
    },
    {
     "name": "stdout",
     "output_type": "stream",
     "text": [
      "DEBUGGING -- cve_id:CVE-2024-0508\n"
     ]
    },
    {
     "name": "stderr",
     "output_type": "stream",
     "text": [
      "C:\\Program Files\\Anaconda3\\envs\\pyth3_p1\\lib\\site-packages\\urllib3\\connectionpool.py:1013: InsecureRequestWarning: Unverified HTTPS request is being made to host 'www.cvedetails.com'. Adding certificate verification is strongly advised. See: https://urllib3.readthedocs.io/en/1.26.x/advanced-usage.html#ssl-warnings\n",
      "  warnings.warn(\n"
     ]
    },
    {
     "name": "stdout",
     "output_type": "stream",
     "text": [
      "ERROR CVE-2024-0508>> Failed to parse HTML elements cve_content_div << \n",
      "\n",
      " \n"
     ]
    }
   ],
   "source": [
    "\n",
    "#FUNCIONA\n",
    "cve_details=[get_cve_details(x) for x in df['cve_id']]\n",
    "df = pd.DataFrame.from_dict(cve_details)\n",
    "out=df.to_json(orient='records', lines=True)\n",
    "with open('json_cves.txt', 'w') as f:\n",
    "    f.write(out)"
   ]
  },
  {
   "cell_type": "code",
   "execution_count": 29,
   "id": "81431b05",
   "metadata": {},
   "outputs": [
    {
     "data": {
      "text/plain": [
       "[{'cve_id': 'CVE-2024-20709',\n",
       "  'published_date': '2024-01-15 13:15:08',\n",
       "  'updated_date': '2024-01-23 19:28:39',\n",
       "  'cwe_id': 'CWE-20 Improper Input Validation',\n",
       "  'total_vuln_cat': ['Input validation', 'Denial of service'],\n",
       "  'base_score': '5.5',\n",
       "  'base_severity': 'MEDIUM',\n",
       "  'vector': 'CVSS:3.1/AV:L/AC:L/PR:N/UI:R/S:U/C:N/I:N/A:H',\n",
       "  'exploitability': '1.8',\n",
       "  'impact': '3.6'},\n",
       " {'cve_id': 'CVE-2024-20721',\n",
       "  'published_date': '2024-01-15 13:15:08',\n",
       "  'updated_date': '2024-01-23 19:28:30',\n",
       "  'cwe_id': 'CWE-20 Improper Input Validation',\n",
       "  'total_vuln_cat': ['Input validation', 'Denial of service'],\n",
       "  'base_score': '5.5',\n",
       "  'base_severity': 'MEDIUM',\n",
       "  'vector': 'CVSS:3.1/AV:L/AC:L/PR:N/UI:R/S:U/C:N/I:N/A:H',\n",
       "  'exploitability': '1.8',\n",
       "  'impact': '3.6'},\n",
       " {'cve_id': 'CVE-2023-27859',\n",
       "  'published_date': '2024-01-22 20:15:47',\n",
       "  'updated_date': '2024-01-25 02:03:31',\n",
       "  'cwe_id': 'Not found CWE ids for CVE-2023-27859',\n",
       "  'total_vuln_cat': ['Execute code'],\n",
       "  'base_score': '6.5',\n",
       "  'base_severity': 'MEDIUM',\n",
       "  'vector': 'CVSS:3.1/AV:N/AC:L/PR:L/UI:N/S:U/C:N/I:H/A:N',\n",
       "  'exploitability': '2.8',\n",
       "  'impact': '3.6'},\n",
       " {'cve_id': 'CVE-2023-36025',\n",
       "  'published_date': '2023-11-14 18:15:32',\n",
       "  'updated_date': '2023-11-21 01:33:14',\n",
       "  'cwe_id': 'Not found CWE ids for CVE-2023-36025',\n",
       "  'total_vuln_cat': [],\n",
       "  'base_score': '8.8',\n",
       "  'base_severity': 'HIGH',\n",
       "  'vector': 'CVSS:3.1/AV:N/AC:L/PR:N/UI:R/S:U/C:H/I:H/A:H',\n",
       "  'exploitability': '2.8',\n",
       "  'impact': '5.9'},\n",
       " {'cve_id': 'CVE-2023-27524',\n",
       "  'published_date': '2023-04-24 16:15:08',\n",
       "  'updated_date': '2024-01-21 03:15:36',\n",
       "  'cwe_id': 'CWE-1188 Initialization of a Resource with an Insecure Default',\n",
       "  'total_vuln_cat': [],\n",
       "  'base_score': '9.8',\n",
       "  'base_severity': 'CRITICAL',\n",
       "  'vector': 'CVSS:3.1/AV:N/AC:L/PR:N/UI:N/S:U/C:H/I:H/A:H',\n",
       "  'exploitability': '3.9',\n",
       "  'impact': '5.9'},\n",
       " {'cve_id': 'CVE-2024-0508'}]"
      ]
     },
     "execution_count": 29,
     "metadata": {},
     "output_type": "execute_result"
    }
   ],
   "source": [
    "cve_details"
   ]
  },
  {
   "cell_type": "code",
   "execution_count": 35,
   "id": "0559b888",
   "metadata": {},
   "outputs": [
    {
     "name": "stdout",
     "output_type": "stream",
     "text": [
      "           cve_id       published_date         updated_date  \\\n",
      "0  CVE-2024-20709  2024-01-15 13:15:08  2024-01-23 19:28:39   \n",
      "1  CVE-2024-20721  2024-01-15 13:15:08  2024-01-23 19:28:30   \n",
      "2  CVE-2023-27859  2024-01-22 20:15:47  2024-01-25 02:03:31   \n",
      "3  CVE-2023-36025  2023-11-14 18:15:32  2023-11-21 01:33:14   \n",
      "4  CVE-2023-27524  2023-04-24 16:15:08  2024-01-21 03:15:36   \n",
      "5   CVE-2024-0508                  NaN                  NaN   \n",
      "\n",
      "                                              cwe_id  \\\n",
      "0                   CWE-20 Improper Input Validation   \n",
      "1                   CWE-20 Improper Input Validation   \n",
      "2               Not found CWE ids for CVE-2023-27859   \n",
      "3               Not found CWE ids for CVE-2023-36025   \n",
      "4  CWE-1188 Initialization of a Resource with an ...   \n",
      "5                                                NaN   \n",
      "\n",
      "                          total_vuln_cat base_score base_severity  \\\n",
      "0  [Input validation, Denial of service]        5.5        MEDIUM   \n",
      "1  [Input validation, Denial of service]        5.5        MEDIUM   \n",
      "2                         [Execute code]        6.5        MEDIUM   \n",
      "3                                     []        8.8          HIGH   \n",
      "4                                     []        9.8      CRITICAL   \n",
      "5                                    NaN        NaN           NaN   \n",
      "\n",
      "                                         vector exploitability impact  \n",
      "0  CVSS:3.1/AV:L/AC:L/PR:N/UI:R/S:U/C:N/I:N/A:H            1.8    3.6  \n",
      "1  CVSS:3.1/AV:L/AC:L/PR:N/UI:R/S:U/C:N/I:N/A:H            1.8    3.6  \n",
      "2  CVSS:3.1/AV:N/AC:L/PR:L/UI:N/S:U/C:N/I:H/A:N            2.8    3.6  \n",
      "3  CVSS:3.1/AV:N/AC:L/PR:N/UI:R/S:U/C:H/I:H/A:H            2.8    5.9  \n",
      "4  CVSS:3.1/AV:N/AC:L/PR:N/UI:N/S:U/C:H/I:H/A:H            3.9    5.9  \n",
      "5                                           NaN            NaN    NaN  \n"
     ]
    }
   ],
   "source": [
    "\n",
    "#FUNCIONA\n",
    "df = pd.DataFrame.from_dict(cve_details)\n",
    "df.to_excel(\"cves_output.xlsx\", index=False)"
   ]
  },
  {
   "cell_type": "code",
   "execution_count": 31,
   "id": "8e52f7cf",
   "metadata": {},
   "outputs": [],
   "source": []
  },
  {
   "cell_type": "code",
   "execution_count": null,
   "id": "95b89d5b",
   "metadata": {},
   "outputs": [],
   "source": []
  }
 ],
 "metadata": {
  "kernelspec": {
   "display_name": "pyth3_p1",
   "language": "python",
   "name": "pyth3_p1"
  },
  "language_info": {
   "codemirror_mode": {
    "name": "ipython",
    "version": 3
   },
   "file_extension": ".py",
   "mimetype": "text/x-python",
   "name": "python",
   "nbconvert_exporter": "python",
   "pygments_lexer": "ipython3",
   "version": "3.9.16"
  }
 },
 "nbformat": 4,
 "nbformat_minor": 5
}
